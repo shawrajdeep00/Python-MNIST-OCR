{
 "cells": [
  {
   "cell_type": "code",
   "execution_count": 1,
   "metadata": {},
   "outputs": [
    {
     "name": "stderr",
     "output_type": "stream",
     "text": [
      "Using TensorFlow backend.\n"
     ]
    }
   ],
   "source": [
    "from keras.datasets import mnist\n",
    "from keras.models import Sequential\n",
    "from keras.layers import Dense\n",
    "from keras.utils import np_utils"
   ]
  },
  {
   "cell_type": "code",
   "execution_count": 2,
   "metadata": {},
   "outputs": [],
   "source": [
    "train,test = mnist.load_data() #Loading handwritten digits dataset with 28x28 images (labelled data)"
   ]
  },
  {
   "cell_type": "code",
   "execution_count": 3,
   "metadata": {},
   "outputs": [],
   "source": [
    "X_train, Y_train = train #Splitting data into images and corresponding labels"
   ]
  },
  {
   "cell_type": "code",
   "execution_count": 4,
   "metadata": {},
   "outputs": [],
   "source": [
    "X_test, Y_test = test"
   ]
  },
  {
   "cell_type": "code",
   "execution_count": 6,
   "metadata": {},
   "outputs": [
    {
     "data": {
      "text/plain": [
       "(60000, 28, 28)"
      ]
     },
     "execution_count": 6,
     "metadata": {},
     "output_type": "execute_result"
    }
   ],
   "source": [
    "X_train.shape"
   ]
  },
  {
   "cell_type": "code",
   "execution_count": 7,
   "metadata": {},
   "outputs": [
    {
     "data": {
      "text/plain": [
       "(10000, 28, 28)"
      ]
     },
     "execution_count": 7,
     "metadata": {},
     "output_type": "execute_result"
    }
   ],
   "source": [
    "X_test.shape"
   ]
  },
  {
   "cell_type": "code",
   "execution_count": 8,
   "metadata": {},
   "outputs": [
    {
     "data": {
      "text/plain": [
       "(60000,)"
      ]
     },
     "execution_count": 8,
     "metadata": {},
     "output_type": "execute_result"
    }
   ],
   "source": [
    "Y_train.shape"
   ]
  },
  {
   "cell_type": "code",
   "execution_count": 9,
   "metadata": {},
   "outputs": [
    {
     "data": {
      "text/plain": [
       "(10000,)"
      ]
     },
     "execution_count": 9,
     "metadata": {},
     "output_type": "execute_result"
    }
   ],
   "source": [
    "Y_test.shape"
   ]
  },
  {
   "cell_type": "code",
   "execution_count": 11,
   "metadata": {},
   "outputs": [
    {
     "data": {
      "image/png": "[encoded data removed]",
      "text/plain": [
       "<Figure size 432x288 with 2 Axes>"
      ]
     },
     "metadata": {
      "needs_background": "light"
     },
     "output_type": "display_data"
    }
   ],
   "source": [
    "import matplotlib.pyplot as plt #Displaying the image using plotting library\n",
    "plt.imshow(X_test[0],cmap='gray')\n",
    "plt.colorbar()\n",
    "plt.show()"
   ]
  },
  {
   "cell_type": "code",
   "execution_count": 12,
   "metadata": {},
   "outputs": [],
   "source": [
    "#Normalizing data to bring in range 0 to 1 from 0 to 255\n",
    "X_train = X_train/255\n",
    "X_test = X_test/255"
   ]
  },
  {
   "cell_type": "code",
   "execution_count": 13,
   "metadata": {},
   "outputs": [
    {
     "data": {
      "text/plain": [
       "(60000, 28, 28)"
      ]
     },
     "execution_count": 13,
     "metadata": {},
     "output_type": "execute_result"
    }
   ],
   "source": [
    "X_train.shape"
   ]
  },
  {
   "cell_type": "code",
   "execution_count": 14,
   "metadata": {},
   "outputs": [],
   "source": [
    "X_train = X_train.reshape(-1,X_train.shape[1]*X_train.shape[2])\n",
    "X_test = X_test.reshape(-1,X_test.shape[1]*X_test.shape[2])"
   ]
  },
  {
   "cell_type": "code",
   "execution_count": 15,
   "metadata": {},
   "outputs": [
    {
     "data": {
      "text/plain": [
       "(60000, 784)"
      ]
     },
     "execution_count": 15,
     "metadata": {},
     "output_type": "execute_result"
    }
   ],
   "source": [
    "X_train.shape #Flattened the images from 28x28 to 784 to feed to neural network neurons"
   ]
  },
  {
   "cell_type": "code",
   "execution_count": 16,
   "metadata": {},
   "outputs": [
    {
     "data": {
      "text/plain": [
       "array([5, 0, 4, ..., 5, 6, 8], dtype=uint8)"
      ]
     },
     "execution_count": 16,
     "metadata": {},
     "output_type": "execute_result"
    }
   ],
   "source": [
    "Y_train"
   ]
  },
  {
   "cell_type": "code",
   "execution_count": 17,
   "metadata": {},
   "outputs": [],
   "source": [
    "Y_train = np_utils.to_categorical(Y_train)\n",
    "Y_test = np_utils.to_categorical(Y_test)"
   ]
  },
  {
   "cell_type": "code",
   "execution_count": 18,
   "metadata": {},
   "outputs": [
    {
     "data": {
      "text/plain": [
       "array([[0., 0., 0., ..., 0., 0., 0.],\n",
       "       [1., 0., 0., ..., 0., 0., 0.],\n",
       "       [0., 0., 0., ..., 0., 0., 0.],\n",
       "       ...,\n",
       "       [0., 0., 0., ..., 0., 0., 0.],\n",
       "       [0., 0., 0., ..., 0., 0., 0.],\n",
       "       [0., 0., 0., ..., 0., 1., 0.]], dtype=float32)"
      ]
     },
     "execution_count": 18,
     "metadata": {},
     "output_type": "execute_result"
    }
   ],
   "source": [
    "Y_train"
   ]
  },
  {
   "cell_type": "code",
   "execution_count": 19,
   "metadata": {},
   "outputs": [],
   "source": [
    "model = Sequential() #Making a feed-forward artificial neural network with sequential layers"
   ]
  },
  {
   "cell_type": "code",
   "execution_count": 21,
   "metadata": {},
   "outputs": [],
   "source": [
    "#Adding layers and activations\n",
    "model.add(Dense(128,activation='relu',input_shape=(784,)))\n",
    "model.add(Dense(64,activation='relu'))\n",
    "model.add(Dense(16,activation='relu'))\n",
    "model.add(Dense(10,activation='softmax'))"
   ]
  },
  {
   "cell_type": "code",
   "execution_count": 22,
   "metadata": {},
   "outputs": [],
   "source": [
    "model.compile(loss='categorical_crossentropy',optimizer='adam',metrics=['accuracy'])\n",
    "#Categorical crossentropy is used to define error for multiple classes (0 to 9 in this case)\n",
    "#Adam optimizer uses a combination of RMSProp and Gradient Descent Optimization technique\n",
    "#We are judging the model on its accuracy"
   ]
  },
  {
   "cell_type": "code",
   "execution_count": 23,
   "metadata": {
    "scrolled": false
   },
   "outputs": [
    {
     "name": "stdout",
     "output_type": "stream",
     "text": [
      "Train on 48000 samples, validate on 12000 samples\n",
      "Epoch 1/40\n",
      "48000/48000 [==============================] - 26s 534us/step - loss: 2.0936 - acc: 0.2528 - val_loss: 1.7294 - val_acc: 0.3306\n",
      "Epoch 2/40\n",
      "48000/48000 [==============================] - 1s 22us/step - loss: 1.3607 - acc: 0.4923 - val_loss: 1.0187 - val_acc: 0.5997\n",
      "Epoch 3/40\n",
      "48000/48000 [==============================] - 1s 22us/step - loss: 0.7748 - acc: 0.7138 - val_loss: 0.5230 - val_acc: 0.8493\n",
      "Epoch 4/40\n",
      "48000/48000 [==============================] - 1s 25us/step - loss: 0.4020 - acc: 0.8834 - val_loss: 0.3103 - val_acc: 0.9221\n",
      "Epoch 5/40\n",
      "48000/48000 [==============================] - 1s 22us/step - loss: 0.2480 - acc: 0.9380 - val_loss: 0.2365 - val_acc: 0.9379\n",
      "Epoch 6/40\n",
      "48000/48000 [==============================] - 1s 22us/step - loss: 0.1834 - acc: 0.9548 - val_loss: 0.2034 - val_acc: 0.9476\n",
      "Epoch 7/40\n",
      "48000/48000 [==============================] - 1s 22us/step - loss: 0.1487 - acc: 0.9626 - val_loss: 0.1890 - val_acc: 0.9512\n",
      "Epoch 8/40\n",
      "48000/48000 [==============================] - 1s 22us/step - loss: 0.1256 - acc: 0.9687 - val_loss: 0.1770 - val_acc: 0.9544\n",
      "Epoch 9/40\n",
      "48000/48000 [==============================] - 1s 22us/step - loss: 0.1048 - acc: 0.9730 - val_loss: 0.1901 - val_acc: 0.9537\n",
      "Epoch 10/40\n",
      "48000/48000 [==============================] - 1s 22us/step - loss: 0.0888 - acc: 0.9767 - val_loss: 0.1700 - val_acc: 0.9589\n",
      "Epoch 11/40\n",
      "48000/48000 [==============================] - 1s 22us/step - loss: 0.0753 - acc: 0.9814 - val_loss: 0.1628 - val_acc: 0.9612\n",
      "Epoch 12/40\n",
      "48000/48000 [==============================] - 1s 22us/step - loss: 0.0650 - acc: 0.9841 - val_loss: 0.1720 - val_acc: 0.9609\n",
      "Epoch 13/40\n",
      "48000/48000 [==============================] - 1s 23us/step - loss: 0.0611 - acc: 0.9846 - val_loss: 0.1787 - val_acc: 0.9580\n",
      "Epoch 14/40\n",
      "48000/48000 [==============================] - 1s 23us/step - loss: 0.0527 - acc: 0.9868 - val_loss: 0.1643 - val_acc: 0.9633\n",
      "Epoch 15/40\n",
      "48000/48000 [==============================] - 1s 23us/step - loss: 0.0416 - acc: 0.9909 - val_loss: 0.1666 - val_acc: 0.9621\n",
      "Epoch 16/40\n",
      "48000/48000 [==============================] - 1s 22us/step - loss: 0.0359 - acc: 0.9921 - val_loss: 0.1668 - val_acc: 0.9626\n",
      "Epoch 17/40\n",
      "48000/48000 [==============================] - 1s 22us/step - loss: 0.0298 - acc: 0.9941 - val_loss: 0.1760 - val_acc: 0.9632\n",
      "Epoch 18/40\n",
      "48000/48000 [==============================] - 1s 23us/step - loss: 0.0276 - acc: 0.9944 - val_loss: 0.1750 - val_acc: 0.9632\n",
      "Epoch 19/40\n",
      "48000/48000 [==============================] - 1s 23us/step - loss: 0.0260 - acc: 0.9947 - val_loss: 0.1817 - val_acc: 0.9618\n",
      "Epoch 20/40\n",
      "48000/48000 [==============================] - 1s 22us/step - loss: 0.0231 - acc: 0.9952 - val_loss: 0.1900 - val_acc: 0.9631\n",
      "Epoch 21/40\n",
      "48000/48000 [==============================] - 1s 23us/step - loss: 0.0203 - acc: 0.9959 - val_loss: 0.1885 - val_acc: 0.9627\n",
      "Epoch 22/40\n",
      "48000/48000 [==============================] - 1s 22us/step - loss: 0.0222 - acc: 0.9952 - val_loss: 0.1956 - val_acc: 0.9618\n",
      "Epoch 23/40\n",
      "48000/48000 [==============================] - 1s 22us/step - loss: 0.0236 - acc: 0.9940 - val_loss: 0.1987 - val_acc: 0.9608\n",
      "Epoch 24/40\n",
      "48000/48000 [==============================] - 1s 22us/step - loss: 0.0165 - acc: 0.9964 - val_loss: 0.1866 - val_acc: 0.9652\n",
      "Epoch 25/40\n",
      "48000/48000 [==============================] - 1s 22us/step - loss: 0.0135 - acc: 0.9976 - val_loss: 0.1929 - val_acc: 0.9641\n",
      "Epoch 26/40\n",
      "48000/48000 [==============================] - 1s 22us/step - loss: 0.0121 - acc: 0.9982 - val_loss: 0.1972 - val_acc: 0.9618\n",
      "Epoch 27/40\n",
      "48000/48000 [==============================] - 1s 22us/step - loss: 0.0126 - acc: 0.9977 - val_loss: 0.1972 - val_acc: 0.9650\n",
      "Epoch 28/40\n",
      "48000/48000 [==============================] - 1s 23us/step - loss: 0.0120 - acc: 0.9980 - val_loss: 0.2081 - val_acc: 0.9622\n",
      "Epoch 29/40\n",
      "48000/48000 [==============================] - 1s 22us/step - loss: 0.0110 - acc: 0.9980 - val_loss: 0.2043 - val_acc: 0.9645\n",
      "Epoch 30/40\n",
      "48000/48000 [==============================] - 1s 22us/step - loss: 0.0108 - acc: 0.9978 - val_loss: 0.2074 - val_acc: 0.9645\n",
      "Epoch 31/40\n",
      "48000/48000 [==============================] - 1s 22us/step - loss: 0.0123 - acc: 0.9971 - val_loss: 0.2165 - val_acc: 0.9635\n",
      "Epoch 32/40\n",
      "48000/48000 [==============================] - 1s 22us/step - loss: 0.0189 - acc: 0.9950 - val_loss: 0.2317 - val_acc: 0.9599\n",
      "Epoch 33/40\n",
      "48000/48000 [==============================] - 1s 22us/step - loss: 0.0256 - acc: 0.9932 - val_loss: 0.2256 - val_acc: 0.9628\n",
      "Epoch 34/40\n",
      "48000/48000 [==============================] - 1s 22us/step - loss: 0.0156 - acc: 0.9963 - val_loss: 0.2021 - val_acc: 0.9656\n",
      "Epoch 35/40\n",
      "48000/48000 [==============================] - 1s 22us/step - loss: 0.0132 - acc: 0.9967 - val_loss: 0.2308 - val_acc: 0.9612\n",
      "Epoch 36/40\n",
      "48000/48000 [==============================] - 1s 22us/step - loss: 0.0128 - acc: 0.9967 - val_loss: 0.2099 - val_acc: 0.9655\n",
      "Epoch 37/40\n",
      "48000/48000 [==============================] - 1s 22us/step - loss: 0.0103 - acc: 0.9979 - val_loss: 0.2080 - val_acc: 0.9657\n",
      "Epoch 38/40\n",
      "48000/48000 [==============================] - 1s 22us/step - loss: 0.0095 - acc: 0.9980 - val_loss: 0.2171 - val_acc: 0.9644\n",
      "Epoch 39/40\n",
      "48000/48000 [==============================] - 1s 22us/step - loss: 0.0080 - acc: 0.9983 - val_loss: 0.2182 - val_acc: 0.9636\n",
      "Epoch 40/40\n",
      "48000/48000 [==============================] - 1s 22us/step - loss: 0.0077 - acc: 0.9986 - val_loss: 0.2368 - val_acc: 0.9636\n"
     ]
    },
    {
     "data": {
      "text/plain": [
       "<keras.callbacks.History at 0x13c54bd6630>"
      ]
     },
     "execution_count": 23,
     "metadata": {},
     "output_type": "execute_result"
    }
   ],
   "source": [
    "#Training the model using the training data\n",
    "model.fit(X_train,Y_train,batch_size=1000,epochs=40,validation_split=0.2)\n",
    "#All the above parameters in fit function are hyperparameters, change them and experiment with them to see what different results can be found"
   ]
  },
  {
   "cell_type": "code",
   "execution_count": 24,
   "metadata": {},
   "outputs": [],
   "source": [
    "#calculating test accuracy\n",
    "import numpy as np\n",
    "total = len(X_test)\n",
    "Y_pred = model.predict(X_test)\n",
    "corr=0\n",
    "for i in range(len(X_test)):\n",
    "    if np.argmax(Y_pred[i]) == np.argmax(Y_test[i]):\n",
    "        corr+=1"
   ]
  },
  {
   "cell_type": "code",
   "execution_count": 25,
   "metadata": {},
   "outputs": [],
   "source": [
    "test_accuracy = corr/total"
   ]
  },
  {
   "cell_type": "code",
   "execution_count": 26,
   "metadata": {},
   "outputs": [
    {
     "data": {
      "text/plain": [
       "0.9646"
      ]
     },
     "execution_count": 26,
     "metadata": {},
     "output_type": "execute_result"
    }
   ],
   "source": [
    "test_accuracy"
   ]
  },
  {
   "cell_type": "code",
   "execution_count": 29,
   "metadata": {},
   "outputs": [
    {
     "data": {
      "text/plain": [
       "7"
      ]
     },
     "execution_count": 29,
     "metadata": {},
     "output_type": "execute_result"
    }
   ],
   "source": [
    "#working of argmax\n",
    "np.argmax(Y_pred[0])"
   ]
  },
  {
   "cell_type": "code",
   "execution_count": 30,
   "metadata": {},
   "outputs": [
    {
     "data": {
      "text/plain": [
       "7"
      ]
     },
     "execution_count": 30,
     "metadata": {},
     "output_type": "execute_result"
    }
   ],
   "source": [
    "np.argmax(Y_test[0])"
   ]
  },
  {
   "cell_type": "code",
   "execution_count": null,
   "metadata": {},
   "outputs": [],
   "source": []
  }
 ],
 "metadata": {
  "kernelspec": {
   "display_name": "Python 3",
   "language": "python",
   "name": "python3"
  },
  "language_info": {
   "codemirror_mode": {
    "name": "ipython",
    "version": 3
   },
   "file_extension": ".py",
   "mimetype": "text/x-python",
   "name": "python",
   "nbconvert_exporter": "python",
   "pygments_lexer": "ipython3",
   "version": "3.5.6"
  }
 },
 "nbformat": 4,
 "nbformat_minor": 2
}
